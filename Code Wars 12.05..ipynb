{
 "cells": [
  {
   "cell_type": "markdown",
   "metadata": {},
   "source": [
    "Move the first letter of each word to the end of it, then add \"ay\" to the end of the word. Leave punctuation marks untouched."
   ]
  },
  {
   "cell_type": "code",
   "execution_count": 9,
   "metadata": {
    "ExecuteTime": {
     "end_time": "2021-05-12T14:31:42.343880Z",
     "start_time": "2021-05-12T14:31:42.322020Z"
    }
   },
   "outputs": [
    {
     "data": {
      "text/plain": [
       "'allohay estTay . sdaay'"
      ]
     },
     "execution_count": 9,
     "metadata": {},
     "output_type": "execute_result"
    }
   ],
   "source": [
    "def pig_it(text):\n",
    "    string = text.split()\n",
    "    y = \"ay\"\n",
    "    new_lst = []\n",
    "    for i in string:\n",
    "        if i in [\".\",\"!\",\"?\",\",\",\":\",\";\"]:\n",
    "            new_lst.append(i)\n",
    "        else:\n",
    "            x = i[0]\n",
    "            sl = i[1:]\n",
    "            word = sl + x + y \n",
    "            new_lst.append(word)\n",
    "    return \" \".join(new_lst)\n",
    "\n",
    "\n",
    "pig_it(\"hallo Test . asd\")"
   ]
  },
  {
   "cell_type": "markdown",
   "metadata": {},
   "source": [
    "In number theory and combinatorics, a partition of a positive integer n, also called an integer partition, is a way of writing n as a sum of positive integers. Two sums that differ only in the order of their summands are considered the same partition."
   ]
  },
  {
   "cell_type": "code",
   "execution_count": 61,
   "metadata": {
    "ExecuteTime": {
     "end_time": "2021-05-12T17:50:35.061148Z",
     "start_time": "2021-05-12T17:50:34.834227Z"
    }
   },
   "outputs": [
    {
     "data": {
      "text/plain": [
       "'Range: 14348906 Average: 363114.82 Median: 41947.50'"
      ]
     },
     "execution_count": 61,
     "metadata": {},
     "output_type": "execute_result"
    }
   ],
   "source": [
    "import math\n",
    "\n",
    "def part(n):\n",
    "    p = set(accel_asc_yield(n))\n",
    "    product = list(set([math.prod(list(ele)) for ele in p]))\n",
    "    product_lst = sorted(product)\n",
    "    amount = len(product_lst)\n",
    "    average = \"%.2f\" % round((sum(product_lst)/amount), 2)\n",
    "    rnge = product_lst[-1]-product_lst[0]\n",
    "    med = \"%.2f\" % round(median(product_lst), 2)\n",
    "    return f\"Range: {rnge} Average: {average} Median: {med}\"\n",
    "        \n",
    "\n",
    "\n",
    "def accel_asc_yield(n):\n",
    "    a = [0 for i in range(n + 1)]\n",
    "    k = 1\n",
    "    y = n - 1\n",
    "    while k != 0:\n",
    "        x = a[k - 1] + 1\n",
    "        k -= 1\n",
    "        while 2 * x <= y:\n",
    "            a[k] = x\n",
    "            y -= x\n",
    "            k += 1\n",
    "        l = k + 1\n",
    "        while x <= y:\n",
    "            a[k] = x\n",
    "            a[l] = y\n",
    "            yield tuple(a[: k + 2])\n",
    "            x += 1\n",
    "            y -= 1\n",
    "        a[k] = x + y\n",
    "        y = x + y - 1\n",
    "        yield tuple(a[: k + 1])\n",
    "        \n",
    "        \n",
    "\n",
    "def median(lst):\n",
    "    n = len(lst)\n",
    "    s = sorted(lst)\n",
    "    return (sum(s[n//2-1:n//2+1])/2.0, s[n//2])[n % 2] if n else None\n",
    "\n",
    "\n",
    "part(45)\n"
   ]
  }
 ],
 "metadata": {
  "kernelspec": {
   "display_name": "Python 3",
   "language": "python",
   "name": "python3"
  },
  "language_info": {
   "codemirror_mode": {
    "name": "ipython",
    "version": 3
   },
   "file_extension": ".py",
   "mimetype": "text/x-python",
   "name": "python",
   "nbconvert_exporter": "python",
   "pygments_lexer": "ipython3",
   "version": "3.8.3"
  }
 },
 "nbformat": 4,
 "nbformat_minor": 4
}
